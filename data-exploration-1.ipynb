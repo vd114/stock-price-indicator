{
 "cells": [
  {
   "cell_type": "code",
   "execution_count": 1,
   "metadata": {
    "collapsed": true
   },
   "outputs": [],
   "source": [
    "import pandas as pd\n",
    "import pandas_datareader as pdr \n",
    "import numpy as np\n",
    "import matplotlib.pyplot as plt\n",
    "import scipy.stats as stats\n",
    "import pylab as pl\n",
    "%matplotlib inline"
   ]
  },
  {
   "cell_type": "code",
   "execution_count": 2,
   "metadata": {},
   "outputs": [
    {
     "data": {
      "text/html": [
       "<div>\n",
       "<style>\n",
       "    .dataframe thead tr:only-child th {\n",
       "        text-align: right;\n",
       "    }\n",
       "\n",
       "    .dataframe thead th {\n",
       "        text-align: left;\n",
       "    }\n",
       "\n",
       "    .dataframe tbody tr th {\n",
       "        vertical-align: top;\n",
       "    }\n",
       "</style>\n",
       "<table border=\"1\" class=\"dataframe\">\n",
       "  <thead>\n",
       "    <tr style=\"text-align: right;\">\n",
       "      <th></th>\n",
       "      <th>Open</th>\n",
       "      <th>High</th>\n",
       "      <th>Low</th>\n",
       "      <th>Close</th>\n",
       "      <th>Adj Close</th>\n",
       "      <th>Volume</th>\n",
       "    </tr>\n",
       "    <tr>\n",
       "      <th>Date</th>\n",
       "      <th></th>\n",
       "      <th></th>\n",
       "      <th></th>\n",
       "      <th></th>\n",
       "      <th></th>\n",
       "      <th></th>\n",
       "    </tr>\n",
       "  </thead>\n",
       "  <tbody>\n",
       "    <tr>\n",
       "      <th>2012-07-02</th>\n",
       "      <td>289.030151</td>\n",
       "      <td>289.616333</td>\n",
       "      <td>286.387329</td>\n",
       "      <td>288.359497</td>\n",
       "      <td>288.359497</td>\n",
       "      <td>3332400</td>\n",
       "    </tr>\n",
       "    <tr>\n",
       "      <th>2012-07-03</th>\n",
       "      <td>288.130981</td>\n",
       "      <td>292.303833</td>\n",
       "      <td>287.132477</td>\n",
       "      <td>292.015717</td>\n",
       "      <td>292.015717</td>\n",
       "      <td>2394400</td>\n",
       "    </tr>\n",
       "    <tr>\n",
       "      <th>2012-07-05</th>\n",
       "      <td>292.477722</td>\n",
       "      <td>298.091217</td>\n",
       "      <td>292.368439</td>\n",
       "      <td>296.034576</td>\n",
       "      <td>296.034576</td>\n",
       "      <td>4722100</td>\n",
       "    </tr>\n",
       "    <tr>\n",
       "      <th>2012-07-06</th>\n",
       "      <td>294.310791</td>\n",
       "      <td>294.842346</td>\n",
       "      <td>289.526917</td>\n",
       "      <td>291.096710</td>\n",
       "      <td>291.096710</td>\n",
       "      <td>4351600</td>\n",
       "    </tr>\n",
       "    <tr>\n",
       "      <th>2012-07-09</th>\n",
       "      <td>290.585022</td>\n",
       "      <td>292.398224</td>\n",
       "      <td>288.746979</td>\n",
       "      <td>291.111603</td>\n",
       "      <td>291.111603</td>\n",
       "      <td>3452500</td>\n",
       "    </tr>\n",
       "  </tbody>\n",
       "</table>\n",
       "</div>"
      ],
      "text/plain": [
       "                  Open        High         Low       Close   Adj Close  \\\n",
       "Date                                                                     \n",
       "2012-07-02  289.030151  289.616333  286.387329  288.359497  288.359497   \n",
       "2012-07-03  288.130981  292.303833  287.132477  292.015717  292.015717   \n",
       "2012-07-05  292.477722  298.091217  292.368439  296.034576  296.034576   \n",
       "2012-07-06  294.310791  294.842346  289.526917  291.096710  291.096710   \n",
       "2012-07-09  290.585022  292.398224  288.746979  291.111603  291.111603   \n",
       "\n",
       "             Volume  \n",
       "Date                 \n",
       "2012-07-02  3332400  \n",
       "2012-07-03  2394400  \n",
       "2012-07-05  4722100  \n",
       "2012-07-06  4351600  \n",
       "2012-07-09  3452500  "
      ]
     },
     "execution_count": 2,
     "metadata": {},
     "output_type": "execute_result"
    }
   ],
   "source": [
    "google = pdr.get_data_yahoo('GOOG', start='7/01/2012', end='1/15/2018')\n",
    "google.head()"
   ]
  },
  {
   "cell_type": "markdown",
   "metadata": {},
   "source": [
    " ## Calculate Daily Price Variation\n",
    "\n",
    "Daily price variation of a stock is the difference between the highest and lowest values on a given trading day. "
   ]
  },
  {
   "cell_type": "code",
   "execution_count": 3,
   "metadata": {},
   "outputs": [
    {
     "data": {
      "text/html": [
       "<div>\n",
       "<style>\n",
       "    .dataframe thead tr:only-child th {\n",
       "        text-align: right;\n",
       "    }\n",
       "\n",
       "    .dataframe thead th {\n",
       "        text-align: left;\n",
       "    }\n",
       "\n",
       "    .dataframe tbody tr th {\n",
       "        vertical-align: top;\n",
       "    }\n",
       "</style>\n",
       "<table border=\"1\" class=\"dataframe\">\n",
       "  <thead>\n",
       "    <tr style=\"text-align: right;\">\n",
       "      <th></th>\n",
       "      <th>Daily Price Variation</th>\n",
       "    </tr>\n",
       "    <tr>\n",
       "      <th>Date</th>\n",
       "      <th></th>\n",
       "    </tr>\n",
       "  </thead>\n",
       "  <tbody>\n",
       "    <tr>\n",
       "      <th>2012-07-02</th>\n",
       "      <td>3.229004</td>\n",
       "    </tr>\n",
       "    <tr>\n",
       "      <th>2012-07-03</th>\n",
       "      <td>5.171356</td>\n",
       "    </tr>\n",
       "    <tr>\n",
       "      <th>2012-07-05</th>\n",
       "      <td>5.722778</td>\n",
       "    </tr>\n",
       "    <tr>\n",
       "      <th>2012-07-06</th>\n",
       "      <td>5.315429</td>\n",
       "    </tr>\n",
       "    <tr>\n",
       "      <th>2012-07-09</th>\n",
       "      <td>3.651245</td>\n",
       "    </tr>\n",
       "  </tbody>\n",
       "</table>\n",
       "</div>"
      ],
      "text/plain": [
       "            Daily Price Variation\n",
       "Date                             \n",
       "2012-07-02               3.229004\n",
       "2012-07-03               5.171356\n",
       "2012-07-05               5.722778\n",
       "2012-07-06               5.315429\n",
       "2012-07-09               3.651245"
      ]
     },
     "execution_count": 3,
     "metadata": {},
     "output_type": "execute_result"
    }
   ],
   "source": [
    "daily_shift = (google['High'] - google['Low'])\n",
    "daily_shift = pd.DataFrame(data = daily_shift, columns = ['Daily Price Variation'])\n",
    "daily_shift.head()"
   ]
  },
  {
   "cell_type": "code",
   "execution_count": 4,
   "metadata": {},
   "outputs": [
    {
     "data": {
      "text/plain": [
       "Daily Price Variation    5.752598\n",
       "dtype: float64"
      ]
     },
     "execution_count": 4,
     "metadata": {},
     "output_type": "execute_result"
    }
   ],
   "source": [
    "daily_shift.std()"
   ]
  },
  {
   "cell_type": "code",
   "execution_count": 29,
   "metadata": {},
   "outputs": [
    {
     "data": {
      "image/png": "[encoded data removed]",
      "text/plain": [
       "<matplotlib.figure.Figure at 0x7f8ac9332d50>"
      ]
     },
     "metadata": {},
     "output_type": "display_data"
    }
   ],
   "source": [
    "v1 = daily_shift['Daily Price Variation']\n",
    "h=sorted([v1])\n",
    "fit = stats.norm.pdf(h, np.mean(h), np.std(h))  #this is a fitting indeed\n",
    "pl.xlabel('Daily Price Variation')\n",
    "pl.ylabel('Frequency')\n",
    "pl.hist(h,normed=True)      #use this to draw histogram of your data\n",
    "plt.savefig('daily-price-variation.png')\n",
    "pl.show() "
   ]
  },
  {
   "cell_type": "markdown",
   "metadata": {},
   "source": [
    "## Calculate Monthly Price Variation"
   ]
  },
  {
   "cell_type": "code",
   "execution_count": 6,
   "metadata": {},
   "outputs": [
    {
     "data": {
      "text/html": [
       "<div>\n",
       "<style>\n",
       "    .dataframe thead tr:only-child th {\n",
       "        text-align: right;\n",
       "    }\n",
       "\n",
       "    .dataframe thead th {\n",
       "        text-align: left;\n",
       "    }\n",
       "\n",
       "    .dataframe tbody tr th {\n",
       "        vertical-align: top;\n",
       "    }\n",
       "</style>\n",
       "<table border=\"1\" class=\"dataframe\">\n",
       "  <thead>\n",
       "    <tr style=\"text-align: right;\">\n",
       "      <th></th>\n",
       "      <th>Open</th>\n",
       "      <th>High</th>\n",
       "      <th>Low</th>\n",
       "      <th>Close</th>\n",
       "      <th>Adj Close</th>\n",
       "      <th>Volume</th>\n",
       "    </tr>\n",
       "    <tr>\n",
       "      <th>Date</th>\n",
       "      <th></th>\n",
       "      <th></th>\n",
       "      <th></th>\n",
       "      <th></th>\n",
       "      <th></th>\n",
       "      <th></th>\n",
       "    </tr>\n",
       "  </thead>\n",
       "  <tbody>\n",
       "    <tr>\n",
       "      <th>2012-07-31</th>\n",
       "      <td>315.969910</td>\n",
       "      <td>319.223755</td>\n",
       "      <td>312.716095</td>\n",
       "      <td>315.428436</td>\n",
       "      <td>315.428436</td>\n",
       "      <td>13011400</td>\n",
       "    </tr>\n",
       "    <tr>\n",
       "      <th>2012-08-31</th>\n",
       "      <td>339.909210</td>\n",
       "      <td>342.268860</td>\n",
       "      <td>337.892334</td>\n",
       "      <td>341.782043</td>\n",
       "      <td>341.782043</td>\n",
       "      <td>7371000</td>\n",
       "    </tr>\n",
       "    <tr>\n",
       "      <th>2012-09-30</th>\n",
       "      <td>377.519592</td>\n",
       "      <td>379.973633</td>\n",
       "      <td>373.396423</td>\n",
       "      <td>375.805756</td>\n",
       "      <td>375.805756</td>\n",
       "      <td>12800800</td>\n",
       "    </tr>\n",
       "    <tr>\n",
       "      <th>2012-10-31</th>\n",
       "      <td>382.864838</td>\n",
       "      <td>384.687988</td>\n",
       "      <td>380.033264</td>\n",
       "      <td>381.543427</td>\n",
       "      <td>381.543427</td>\n",
       "      <td>25046500</td>\n",
       "    </tr>\n",
       "    <tr>\n",
       "      <th>2012-11-30</th>\n",
       "      <td>345.150116</td>\n",
       "      <td>347.350830</td>\n",
       "      <td>341.464111</td>\n",
       "      <td>346.928558</td>\n",
       "      <td>346.928558</td>\n",
       "      <td>6920900</td>\n",
       "    </tr>\n",
       "  </tbody>\n",
       "</table>\n",
       "</div>"
      ],
      "text/plain": [
       "                  Open        High         Low       Close   Adj Close  \\\n",
       "Date                                                                     \n",
       "2012-07-31  315.969910  319.223755  312.716095  315.428436  315.428436   \n",
       "2012-08-31  339.909210  342.268860  337.892334  341.782043  341.782043   \n",
       "2012-09-30  377.519592  379.973633  373.396423  375.805756  375.805756   \n",
       "2012-10-31  382.864838  384.687988  380.033264  381.543427  381.543427   \n",
       "2012-11-30  345.150116  347.350830  341.464111  346.928558  346.928558   \n",
       "\n",
       "              Volume  \n",
       "Date                  \n",
       "2012-07-31  13011400  \n",
       "2012-08-31   7371000  \n",
       "2012-09-30  12800800  \n",
       "2012-10-31  25046500  \n",
       "2012-11-30   6920900  "
      ]
     },
     "execution_count": 6,
     "metadata": {},
     "output_type": "execute_result"
    }
   ],
   "source": [
    "# find price max in a given month\n",
    "google.groupby(pd.TimeGrouper(freq='M')).max().head()"
   ]
  },
  {
   "cell_type": "code",
   "execution_count": 7,
   "metadata": {},
   "outputs": [
    {
     "data": {
      "text/html": [
       "<div>\n",
       "<style>\n",
       "    .dataframe thead tr:only-child th {\n",
       "        text-align: right;\n",
       "    }\n",
       "\n",
       "    .dataframe thead th {\n",
       "        text-align: left;\n",
       "    }\n",
       "\n",
       "    .dataframe tbody tr th {\n",
       "        vertical-align: top;\n",
       "    }\n",
       "</style>\n",
       "<table border=\"1\" class=\"dataframe\">\n",
       "  <thead>\n",
       "    <tr style=\"text-align: right;\">\n",
       "      <th></th>\n",
       "      <th>Open</th>\n",
       "      <th>High</th>\n",
       "      <th>Low</th>\n",
       "      <th>Close</th>\n",
       "      <th>Adj Close</th>\n",
       "      <th>Volume</th>\n",
       "    </tr>\n",
       "    <tr>\n",
       "      <th>Date</th>\n",
       "      <th></th>\n",
       "      <th></th>\n",
       "      <th></th>\n",
       "      <th></th>\n",
       "      <th></th>\n",
       "      <th></th>\n",
       "    </tr>\n",
       "  </thead>\n",
       "  <tbody>\n",
       "    <tr>\n",
       "      <th>2012-07-31</th>\n",
       "      <td>281.727631</td>\n",
       "      <td>284.117096</td>\n",
       "      <td>279.228882</td>\n",
       "      <td>283.396790</td>\n",
       "      <td>283.396790</td>\n",
       "      <td>2394400</td>\n",
       "    </tr>\n",
       "    <tr>\n",
       "      <th>2012-08-31</th>\n",
       "      <td>310.733978</td>\n",
       "      <td>316.953522</td>\n",
       "      <td>309.690765</td>\n",
       "      <td>312.343506</td>\n",
       "      <td>312.343506</td>\n",
       "      <td>2154400</td>\n",
       "    </tr>\n",
       "    <tr>\n",
       "      <th>2012-09-30</th>\n",
       "      <td>337.802917</td>\n",
       "      <td>340.286774</td>\n",
       "      <td>334.573914</td>\n",
       "      <td>338.160583</td>\n",
       "      <td>338.160583</td>\n",
       "      <td>3036100</td>\n",
       "    </tr>\n",
       "    <tr>\n",
       "      <th>2012-10-31</th>\n",
       "      <td>333.833740</td>\n",
       "      <td>338.299683</td>\n",
       "      <td>332.686188</td>\n",
       "      <td>335.393585</td>\n",
       "      <td>335.393585</td>\n",
       "      <td>3093900</td>\n",
       "    </tr>\n",
       "    <tr>\n",
       "      <th>2012-11-30</th>\n",
       "      <td>320.907806</td>\n",
       "      <td>324.400085</td>\n",
       "      <td>315.945068</td>\n",
       "      <td>321.498962</td>\n",
       "      <td>321.498962</td>\n",
       "      <td>1856900</td>\n",
       "    </tr>\n",
       "  </tbody>\n",
       "</table>\n",
       "</div>"
      ],
      "text/plain": [
       "                  Open        High         Low       Close   Adj Close  \\\n",
       "Date                                                                     \n",
       "2012-07-31  281.727631  284.117096  279.228882  283.396790  283.396790   \n",
       "2012-08-31  310.733978  316.953522  309.690765  312.343506  312.343506   \n",
       "2012-09-30  337.802917  340.286774  334.573914  338.160583  338.160583   \n",
       "2012-10-31  333.833740  338.299683  332.686188  335.393585  335.393585   \n",
       "2012-11-30  320.907806  324.400085  315.945068  321.498962  321.498962   \n",
       "\n",
       "             Volume  \n",
       "Date                 \n",
       "2012-07-31  2394400  \n",
       "2012-08-31  2154400  \n",
       "2012-09-30  3036100  \n",
       "2012-10-31  3093900  \n",
       "2012-11-30  1856900  "
      ]
     },
     "execution_count": 7,
     "metadata": {},
     "output_type": "execute_result"
    }
   ],
   "source": [
    "# find price min in a given month\n",
    "google.groupby(pd.TimeGrouper(freq='M')).min().head()"
   ]
  },
  {
   "cell_type": "code",
   "execution_count": 8,
   "metadata": {},
   "outputs": [
    {
     "data": {
      "text/html": [
       "<div>\n",
       "<style>\n",
       "    .dataframe thead tr:only-child th {\n",
       "        text-align: right;\n",
       "    }\n",
       "\n",
       "    .dataframe thead th {\n",
       "        text-align: left;\n",
       "    }\n",
       "\n",
       "    .dataframe tbody tr th {\n",
       "        vertical-align: top;\n",
       "    }\n",
       "</style>\n",
       "<table border=\"1\" class=\"dataframe\">\n",
       "  <thead>\n",
       "    <tr style=\"text-align: right;\">\n",
       "      <th></th>\n",
       "      <th>Monthly Price Variation</th>\n",
       "    </tr>\n",
       "    <tr>\n",
       "      <th>Date</th>\n",
       "      <th></th>\n",
       "    </tr>\n",
       "  </thead>\n",
       "  <tbody>\n",
       "    <tr>\n",
       "      <th>2012-07-31</th>\n",
       "      <td>34.242279</td>\n",
       "    </tr>\n",
       "    <tr>\n",
       "      <th>2012-08-31</th>\n",
       "      <td>29.175232</td>\n",
       "    </tr>\n",
       "    <tr>\n",
       "      <th>2012-09-30</th>\n",
       "      <td>39.716675</td>\n",
       "    </tr>\n",
       "    <tr>\n",
       "      <th>2012-10-31</th>\n",
       "      <td>49.031098</td>\n",
       "    </tr>\n",
       "    <tr>\n",
       "      <th>2012-11-30</th>\n",
       "      <td>24.242310</td>\n",
       "    </tr>\n",
       "  </tbody>\n",
       "</table>\n",
       "</div>"
      ],
      "text/plain": [
       "            Monthly Price Variation\n",
       "Date                               \n",
       "2012-07-31                34.242279\n",
       "2012-08-31                29.175232\n",
       "2012-09-30                39.716675\n",
       "2012-10-31                49.031098\n",
       "2012-11-30                24.242310"
      ]
     },
     "execution_count": 8,
     "metadata": {},
     "output_type": "execute_result"
    }
   ],
   "source": [
    "month_groupby = google.groupby(pd.TimeGrouper(freq='M'))\n",
    "month_difference = (month_groupby['Open'].max() - month_groupby['Open'].min())\n",
    "month_difference = pd.DataFrame(data = month_difference)\n",
    "month_difference.columns = ['Monthly Price Variation']\n",
    "month_difference.head()"
   ]
  },
  {
   "cell_type": "code",
   "execution_count": 9,
   "metadata": {},
   "outputs": [
    {
     "data": {
      "text/plain": [
       "Monthly Price Variation    26.919452\n",
       "dtype: float64"
      ]
     },
     "execution_count": 9,
     "metadata": {},
     "output_type": "execute_result"
    }
   ],
   "source": [
    "month_difference.std()"
   ]
  },
  {
   "cell_type": "code",
   "execution_count": 25,
   "metadata": {},
   "outputs": [
    {
     "data": {
      "image/png": "[encoded data removed]",
      "text/plain": [
       "<matplotlib.figure.Figure at 0x7f8ac96798d0>"
      ]
     },
     "metadata": {},
     "output_type": "display_data"
    }
   ],
   "source": [
    "v1 = month_difference['Monthly Price Variation']\n",
    "h=sorted([v1])\n",
    "fit = stats.norm.pdf(h, np.mean(h), np.std(h))  #this is a fitting indeed\n",
    "pl.hist(h,normed=True)      #use this to draw histogram of your data\n",
    "pl.show() "
   ]
  },
  {
   "cell_type": "code",
   "execution_count": 10,
   "metadata": {},
   "outputs": [
    {
     "data": {
      "text/html": [
       "<div>\n",
       "<style>\n",
       "    .dataframe thead tr:only-child th {\n",
       "        text-align: right;\n",
       "    }\n",
       "\n",
       "    .dataframe thead th {\n",
       "        text-align: left;\n",
       "    }\n",
       "\n",
       "    .dataframe tbody tr th {\n",
       "        vertical-align: top;\n",
       "    }\n",
       "</style>\n",
       "<table border=\"1\" class=\"dataframe\">\n",
       "  <thead>\n",
       "    <tr style=\"text-align: right;\">\n",
       "      <th></th>\n",
       "      <th>Yearly Price Variation</th>\n",
       "    </tr>\n",
       "    <tr>\n",
       "      <th>Date</th>\n",
       "      <th></th>\n",
       "    </tr>\n",
       "  </thead>\n",
       "  <tbody>\n",
       "    <tr>\n",
       "      <th>2012-12-31</th>\n",
       "      <td>101.137207</td>\n",
       "    </tr>\n",
       "    <tr>\n",
       "      <th>2013-12-31</th>\n",
       "      <td>206.496918</td>\n",
       "    </tr>\n",
       "    <tr>\n",
       "      <th>2014-12-31</th>\n",
       "      <td>115.154052</td>\n",
       "    </tr>\n",
       "    <tr>\n",
       "      <th>2015-12-31</th>\n",
       "      <td>284.657166</td>\n",
       "    </tr>\n",
       "    <tr>\n",
       "      <th>2016-12-31</th>\n",
       "      <td>148.830017</td>\n",
       "    </tr>\n",
       "  </tbody>\n",
       "</table>\n",
       "</div>"
      ],
      "text/plain": [
       "            Yearly Price Variation\n",
       "Date                              \n",
       "2012-12-31              101.137207\n",
       "2013-12-31              206.496918\n",
       "2014-12-31              115.154052\n",
       "2015-12-31              284.657166\n",
       "2016-12-31              148.830017"
      ]
     },
     "execution_count": 10,
     "metadata": {},
     "output_type": "execute_result"
    }
   ],
   "source": [
    "year_groupby = google.groupby(pd.TimeGrouper(freq='A'))\n",
    "year_difference = (year_groupby['Open'].max() - year_groupby['Open'].min())\n",
    "year_difference = pd.DataFrame(data = year_difference)\n",
    "year_difference.columns = ['Yearly Price Variation']\n",
    "year_difference.head()"
   ]
  },
  {
   "cell_type": "code",
   "execution_count": 11,
   "metadata": {},
   "outputs": [
    {
     "data": {
      "text/plain": [
       "Yearly Price Variation    87.277773\n",
       "dtype: float64"
      ]
     },
     "execution_count": 11,
     "metadata": {},
     "output_type": "execute_result"
    }
   ],
   "source": [
    "year_difference.std()"
   ]
  },
  {
   "cell_type": "markdown",
   "metadata": {},
   "source": [
    "## Plotting Price Variation by Day, Month, Year "
   ]
  },
  {
   "cell_type": "code",
   "execution_count": 12,
   "metadata": {},
   "outputs": [
    {
     "data": {
      "text/html": [
       "<div>\n",
       "<style>\n",
       "    .dataframe thead tr:only-child th {\n",
       "        text-align: right;\n",
       "    }\n",
       "\n",
       "    .dataframe thead th {\n",
       "        text-align: left;\n",
       "    }\n",
       "\n",
       "    .dataframe tbody tr th {\n",
       "        vertical-align: top;\n",
       "    }\n",
       "</style>\n",
       "<table border=\"1\" class=\"dataframe\">\n",
       "  <thead>\n",
       "    <tr style=\"text-align: right;\">\n",
       "      <th></th>\n",
       "      <th>Date</th>\n",
       "      <th>Open</th>\n",
       "      <th>High</th>\n",
       "      <th>Low</th>\n",
       "      <th>Close</th>\n",
       "      <th>Adj Close</th>\n",
       "      <th>Volume</th>\n",
       "    </tr>\n",
       "  </thead>\n",
       "  <tbody>\n",
       "    <tr>\n",
       "      <th>0</th>\n",
       "      <td>2012-07-02</td>\n",
       "      <td>289.030151</td>\n",
       "      <td>289.616333</td>\n",
       "      <td>286.387329</td>\n",
       "      <td>288.359497</td>\n",
       "      <td>288.359497</td>\n",
       "      <td>3332400</td>\n",
       "    </tr>\n",
       "    <tr>\n",
       "      <th>1</th>\n",
       "      <td>2012-07-03</td>\n",
       "      <td>288.130981</td>\n",
       "      <td>292.303833</td>\n",
       "      <td>287.132477</td>\n",
       "      <td>292.015717</td>\n",
       "      <td>292.015717</td>\n",
       "      <td>2394400</td>\n",
       "    </tr>\n",
       "    <tr>\n",
       "      <th>2</th>\n",
       "      <td>2012-07-05</td>\n",
       "      <td>292.477722</td>\n",
       "      <td>298.091217</td>\n",
       "      <td>292.368439</td>\n",
       "      <td>296.034576</td>\n",
       "      <td>296.034576</td>\n",
       "      <td>4722100</td>\n",
       "    </tr>\n",
       "    <tr>\n",
       "      <th>3</th>\n",
       "      <td>2012-07-06</td>\n",
       "      <td>294.310791</td>\n",
       "      <td>294.842346</td>\n",
       "      <td>289.526917</td>\n",
       "      <td>291.096710</td>\n",
       "      <td>291.096710</td>\n",
       "      <td>4351600</td>\n",
       "    </tr>\n",
       "    <tr>\n",
       "      <th>4</th>\n",
       "      <td>2012-07-09</td>\n",
       "      <td>290.585022</td>\n",
       "      <td>292.398224</td>\n",
       "      <td>288.746979</td>\n",
       "      <td>291.111603</td>\n",
       "      <td>291.111603</td>\n",
       "      <td>3452500</td>\n",
       "    </tr>\n",
       "  </tbody>\n",
       "</table>\n",
       "</div>"
      ],
      "text/plain": [
       "        Date        Open        High         Low       Close   Adj Close  \\\n",
       "0 2012-07-02  289.030151  289.616333  286.387329  288.359497  288.359497   \n",
       "1 2012-07-03  288.130981  292.303833  287.132477  292.015717  292.015717   \n",
       "2 2012-07-05  292.477722  298.091217  292.368439  296.034576  296.034576   \n",
       "3 2012-07-06  294.310791  294.842346  289.526917  291.096710  291.096710   \n",
       "4 2012-07-09  290.585022  292.398224  288.746979  291.111603  291.111603   \n",
       "\n",
       "    Volume  \n",
       "0  3332400  \n",
       "1  2394400  \n",
       "2  4722100  \n",
       "3  4351600  \n",
       "4  3452500  "
      ]
     },
     "execution_count": 12,
     "metadata": {},
     "output_type": "execute_result"
    }
   ],
   "source": [
    "# making a Date Column\n",
    "google = google.reset_index()\n",
    "daily_shift = daily_shift.reset_index()\n",
    "month_difference = month_difference.reset_index()\n",
    "year_difference = year_difference.reset_index()\n",
    "google.head()"
   ]
  },
  {
   "cell_type": "code",
   "execution_count": 13,
   "metadata": {},
   "outputs": [
    {
     "data": {
      "image/png": "[encoded data removed]",
      "text/plain": [
       "<matplotlib.figure.Figure at 0x7f8ae0c90bd0>"
      ]
     },
     "metadata": {},
     "output_type": "display_data"
    }
   ],
   "source": [
    "fig, axes = plt.subplots(nrows = 1, ncols = 3, figsize = (15,5));\n",
    "fig.suptitle('Price Variation', size = 15, x = .515, y=1.02)\n",
    "axes[0].plot('Date', 'Daily Price Variation', data = daily_shift);\n",
    "axes[0].set_title('Daily');\n",
    "axes[0].set_xlabel('Year', fontsize=10);\n",
    "axes[1].plot('Date', 'Monthly Price Variation', data = month_difference);\n",
    "axes[1].set_title('Monthly');\n",
    "axes[1].set_xlabel('Year', fontsize=10);\n",
    "axes[2].plot('Date', 'Yearly Price Variation', data = year_difference);\n",
    "axes[2].set_title('Yearly');\n",
    "axes[2].set_xlabel('Year', fontsize=10);\n",
    "plt.savefig('price-variation.png') \n",
    "plt.show()"
   ]
  }
 ],
 "metadata": {
  "kernelspec": {
   "display_name": "Python [conda root]",
   "language": "python",
   "name": "conda-root-py"
  },
  "language_info": {
   "codemirror_mode": {
    "name": "ipython",
    "version": 2
   },
   "file_extension": ".py",
   "mimetype": "text/x-python",
   "name": "python",
   "nbconvert_exporter": "python",
   "pygments_lexer": "ipython2",
   "version": "2.7.13"
  }
 },
 "nbformat": 4,
 "nbformat_minor": 2
}
